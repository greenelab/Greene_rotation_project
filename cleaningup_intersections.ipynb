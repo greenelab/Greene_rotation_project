{
 "cells": [
  {
   "cell_type": "code",
   "execution_count": null,
   "metadata": {},
   "outputs": [],
   "source": [
    "# general imports\n",
    "import warnings\n",
    "import numpy as np\n",
    "import os\n",
    "import pandas as pd\n",
    "import scipy as sp\n",
    "from scipy.sparse import coo_matrix\n",
    "import collections\n",
    "import scanpy as sc\n",
    "\n",
    "\n",
    "# Images, plots, display, and visualization\n",
    "import matplotlib.pyplot as plt\n",
    "import pandas as pd\n",
    "import seaborn as sns\n",
    "from sklearn.manifold import TSNE\n",
    "import sklearn as sk\n",
    "\n",
    "# matplotlib settings for Jupyter notebooks only\n",
    "%matplotlib inline\n",
    "\n",
    "import pickle\n",
    "import gzip\n",
    "from pathlib import Path\n",
    "\n",
    "aug_data_path = \"/Users/ivicha/Documents/GreeneLab/NormalCortex_Data/From_brainMap/matrix/results/pseudos\"\n",
    "cybersort_path = \"/Users/ivicha/Documents/GreeneLab/NormalCortex_Data/From_brainMap/matrix/results/pseudos\"\n",
    "data_path = \"/Users/ivicha/Documents/GreeneLab/NormalCortex_Data/From_brainMap/matrix\"\n",
    "scpred_path = \"/Users/ivicha/Documents/GreeneLab/NormalCortex_Data/From_brainMap/metafolder\""
   ]
  },
  {
   "cell_type": "code",
   "execution_count": null,
   "metadata": {},
   "outputs": [],
   "source": [
    "# 6k process\n",
    "\n",
    "# read in the data\n",
    "\n",
    "os.chdir(data_path)\n",
    "adata = sc.read_csv('matrix.csv')\n",
    "adata.var_names_make_unique()  # this is unnecessary if using `var_names='gene_ids'` in `sc.read_10x_mtx`\n",
    "adata.var['gene_ids'] = adata.var_names"
   ]
  },
  {
   "cell_type": "code",
   "execution_count": null,
   "metadata": {},
   "outputs": [],
   "source": [
    "\n",
    "# add metadata\n",
    "\n",
    "os.chdir(scpred_path)\n",
    "meta_data = pd.read_csv(\"metadata.csv\", sep=\"\\,\")\n",
    "\n",
    "#oligos\n",
    "meta_data = meta_data.replace(to_replace=['Oligo L4-6 OPALIN', 'Oligo L4-6 MOBP COL18A1'],value=['Oligodendrocyte', 'Oligodendrocyte'])\n",
    "#microglia\n",
    "meta_data = meta_data.replace(to_replace=['Micro L1-6 C1QC'], value=['Microglia'])\n",
    "\n",
    "#Astrocyes\n",
    "meta_data = meta_data.replace(to_replace=['Astro L1-6 FGFR3 ETNPPL', 'Astro L1 FGFR3 MT1G','Astro L1 FGFR3 FOS'], value=['Astrocyte', 'Astrocyte', 'Astrocyte'])\n",
    "\n",
    "#opcs\n",
    "meta_data = meta_data.replace(to_replace=['OPC L1-6 MYT1'], value= ['OPC'])\n",
    "\n",
    "#endocytes\n",
    "meta_data = meta_data.replace(to_replace=['Endo L2-5 CLDN5'], value=['Endocyte'])\n",
    "\n",
    "#others\n",
    "meta_data = meta_data.fillna('')\n",
    "meta_data = meta_data.replace(to_replace=['VLMC L1-3 CYP1B1', 'Peri L1-6 MUSTN1', 'NA', ''], value= ['Other', 'Other', 'Other', 'Other'])\n",
    "\n",
    "meta_data = meta_data.replace(regex=r'Inh', value= 'Neuron')\n",
    "meta_data = meta_data.replace(regex=r'Exc', value = 'Neuron')\n",
    "\n",
    "meta_data = meta_data.replace(regex='Neuron\\s\\w\\w\\s\\w*\\w*', value = 'Neuron')\n",
    "meta_data = meta_data.replace(regex='Neuron\\s\\w\\w\\W\\s\\w*\\w*', value = 'Neuron')\n",
    "\n",
    "meta_data = meta_data.replace(regex='Neuron\\s\\w*', value = 'Neuron')\n",
    "\n",
    "meta_data = meta_data.replace(regex='Neuron\\W\\w\\s\\w*', value = 'Neuron')\n",
    "\n",
    "meta_data = meta_data.replace(regex='Neuron\\s\\w*', value = 'Neuron')\n",
    "\n",
    "meta_data['scpred_prediction']= meta_data.cell_type_alias_label\n",
    "\n",
    "meta_data.cell_type_alias_label = meta_data.cell_type_alias_label.astype('category')\n",
    "\n",
    "os.chir(aug_data_path)\n",
    "\n",
    "#barcodes = pd.read_csv(f\"{data_path}/barcodes.tsv\", header=None, names=['code'])\n",
    "#meta_df = barcodes.join(other=meta_data, on=['code'], how='left', sort=False)\n",
    "adata.obs['scpred_CellType'] = meta_data.cell_type_alias_label.values\n",
    "adata.obs['CellType'] = meta_data.cell_type_alias_label.values\n",
    "\n",
    "\n",
    "# filter out cells with less than 200 genes and genes expressed in less than 3 cells\n",
    "sc.pp.filter_cells(adata, min_genes=200)\n",
    "sc.pp.filter_genes(adata, min_cells=3)\n",
    "\n",
    "# remove genes with high mitochondrial content\n",
    "adata.var['mt'] = adata.var_names.str.startswith('MT-')  # annotate the group of mitochondrial genes as 'mt'\n",
    "sc.pp.calculate_qc_metrics(adata, qc_vars=['mt'], percent_top=None, log1p=False, inplace=True)\n",
    "\n",
    "# slice the data based on the plots from above\n",
    "# remove cells with more than 3500 genes\n",
    "# remove cells with more than 10% MTgenes\n",
    "adata = adata[adata.obs.n_genes_by_counts < 2000, :]\n",
    "adata = adata[adata.obs.pct_counts_mt < 10, :]\n",
    "\n",
    "\n",
    "# normalize to 10K counts per cell\n",
    "sc.pp.normalize_total(adata, target_sum=1e4)\n",
    "\n",
    "# log data\n",
    "sc.pp.log1p(adata)\n",
    "\n",
    "# get high variance genes\n",
    "sc.pp.highly_variable_genes(adata, min_mean=0.0125, max_mean=3, min_disp=0.5)\n",
    "pbmc_6k_gene_ids = adata.var['gene_ids']\n",
    "\n",
    "# and filter\n",
    "adata = adata[:, adata.var.highly_variable]\n",
    "\n",
    "pbmc_6k_gene_ids_variable = adata.var['gene_ids']"
   ]
  },
  {
   "cell_type": "code",
   "execution_count": null,
   "metadata": {},
   "outputs": [],
   "source": [
    "pbmc_6k_gene_ids_variable = adata.var['gene_ids']"
   ]
  },
  {
   "cell_type": "code",
   "execution_count": null,
   "metadata": {},
   "outputs": [],
   "source": [
    "genes_all = adata.var['gene_ids']\n",
    "\n",
    "genes_all = list(set.intersection(*[set(x) for x in genes_all]))\n",
    "len(genes_all)"
   ]
  },
  {
   "cell_type": "code",
   "execution_count": null,
   "metadata": {},
   "outputs": [],
   "source": [
    "genes_all_variable = adata.var['gene_ids']\n",
    "\n",
    "genes_all_variable = list(set.intersection(*[set(x) for x in genes_all_variable]))\n",
    "len(genes_all_variable)"
   ]
  },
  {
   "cell_type": "code",
   "execution_count": null,
   "metadata": {},
   "outputs": [],
   "source": [
    "# write out the gene ids\n",
    "gene_out_file = os.path.join(aug_data_path, \"intersection_genes.pkl\")\n",
    "gene_out_path = Path(gene_out_file)\n",
    "pickle.dump( genes_all, open( gene_out_path, \"wb\" ) )"
   ]
  }
 ],
 "metadata": {
  "kernelspec": {
   "display_name": "Python 3.9.12 ('base')",
   "language": "python",
   "name": "python3"
  },
  "language_info": {
   "name": "python",
   "version": "3.9.12"
  },
  "orig_nbformat": 4,
  "vscode": {
   "interpreter": {
    "hash": "cc8dbb79165c794cee01247d49fade74906f1b66479a9f9c741c9322691d3980"
   }
  }
 },
 "nbformat": 4,
 "nbformat_minor": 2
}
